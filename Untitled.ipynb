{
 "cells": [
  {
   "cell_type": "code",
   "execution_count": 1,
   "id": "695116db",
   "metadata": {},
   "outputs": [],
   "source": [
    "import numpy as np\n",
    "import pandas as pd\n",
    "import matplotlib.pyplot as plt"
   ]
  },
  {
   "cell_type": "code",
   "execution_count": 2,
   "id": "a54af2c2",
   "metadata": {},
   "outputs": [],
   "source": [
    "X = np.load('ex7_X.npy')"
   ]
  },
  {
   "cell_type": "code",
   "execution_count": 3,
   "id": "f44a9708",
   "metadata": {},
   "outputs": [
    {
     "data": {
      "text/plain": [
       "(300, 2)"
      ]
     },
     "execution_count": 3,
     "metadata": {},
     "output_type": "execute_result"
    }
   ],
   "source": [
    "X.shape"
   ]
  },
  {
   "cell_type": "code",
   "execution_count": 4,
   "id": "564a93d3",
   "metadata": {},
   "outputs": [
    {
     "data": {
      "text/plain": [
       "array([ 1.84207953,  5.65858312,  6.35257892,  2.90401653,  3.23197916,\n",
       "        1.24792268,  1.97619886,  2.23454135,  2.98340757,  2.97970391,\n",
       "        2.11496411,  2.12169543,  1.5143529 ,  2.16979227,  0.41852373,\n",
       "        2.47053695,  4.06069132,  3.00708934,  0.66632346,  3.1621865 ,\n",
       "        0.51155258,  3.1342801 ,  2.04974595,  0.66582785,  1.01732013,\n",
       "        2.17893568,  2.85962615,  1.30882588,  0.99253246,  1.40372638,\n",
       "        2.66046572,  2.79995882,  2.06995345,  3.29765181,  1.8929766 ,\n",
       "        2.55983064,  1.15354031,  2.25150754,  2.20960296,  1.59141937,\n",
       "        1.67838038,  2.59148642,  2.80996442,  0.95311627,  1.51775276,\n",
       "        3.23114248,  2.54180011,  3.81422865,  1.68495829,  2.17777173,\n",
       "        1.8173328 ,  1.85776553,  3.03084301,  2.92658295,  3.43493543,\n",
       "        3.20367116,  0.10511804,  1.40597916,  2.24185052,  1.36678395,\n",
       "        1.70725482,  1.91909566,  1.60156731,  0.37963437,  2.02134502,\n",
       "        1.12036737,  2.26901428, -0.24512713,  2.12857843,  1.84419981,\n",
       "        2.32558253,  1.52334113,  1.02285128,  1.85382737,  2.20321658,\n",
       "        1.20099981,  1.02062703,  1.60493227,  0.47647355,  0.3639172 ,\n",
       "        0.31319845,  2.28664839,  2.15460139,  2.05288518,  4.88804332,\n",
       "        2.40304747,  2.56869453,  1.82975993,  0.54845223,  3.17109619,\n",
       "        3.04202069,  2.40427775,  0.17783466,  2.61428678,  2.30097798,\n",
       "        3.90779317,  2.05670542,  1.38133497,  1.16074178,  1.72818199,\n",
       "        3.20360621,  3.06192918,  4.01714917,  1.40260822,  4.08164951,\n",
       "        3.15273081,  3.45186351,  3.85384314,  1.57449255,  4.72372078,\n",
       "        2.87961084,  0.96791348,  1.53178107,  4.13835915,  3.16109021,\n",
       "        2.95177039,  3.27844295,  2.1270185 ,  3.32648885,  2.54371489,\n",
       "        3.233947  ,  4.43152976,  3.56478625,  4.25588482,  4.05386581,\n",
       "        3.08970176,  2.84734459,  3.63586049,  1.95538864,  2.88384005,\n",
       "        3.48444387,  3.49798412,  2.45575934,  3.2038001 ,  3.00677254,\n",
       "        1.96547974,  2.17989333,  2.61207029,  3.95549912,  3.64846482,\n",
       "        4.18450011,  3.7875723 ,  3.30063655,  3.02836363,  3.18412176,\n",
       "        4.16911897,  3.24024211,  3.91596068,  2.96979716,  1.12993856,\n",
       "        2.71730799,  3.1189017 ,  2.4051802 ,  2.95818429,  1.65456309,\n",
       "        2.39775807,  2.28409305,  2.79588724,  3.41156277,  3.50663521,\n",
       "        3.93616029,  3.90206657,  2.61036396,  4.37271861,  3.08349136,\n",
       "        2.1159935 ,  2.15653404,  2.14491101,  1.84935524,  4.1590816 ,\n",
       "        2.76494499,  3.90561153,  2.54071672,  4.27783068,  3.31058167,\n",
       "        2.15520661,  3.71363659,  3.54010186,  1.60519991,  1.75164337,\n",
       "        3.12405123,  2.37198785,  2.53446019,  3.6834465 ,  3.2670134 ,\n",
       "        3.94159139,  3.2645514 ,  4.30471138,  2.68499376,  3.12635184,\n",
       "        2.94294356,  3.11876541,  2.02358978,  3.62202931,  2.42865879,\n",
       "        2.09517296,  5.29239452,  2.07291709,  0.94623208,  2.73911908,\n",
       "        6.00506534,  6.05696411,  6.77012767,  5.64034678,  5.63325403,\n",
       "        6.17443157,  7.24694794,  5.58162906,  5.3627205 ,  4.70775773,\n",
       "        7.42892098,  6.64107248,  6.37473652,  7.28780324,  6.20295231,\n",
       "        5.38736041,  5.6673103 ,  6.59702155,  7.75660559,  6.63262745,\n",
       "        5.76634959,  5.99423154,  6.37870407,  5.74036233,  4.61652442,\n",
       "        5.33533999,  5.37293912,  5.03611162,  5.52908677,  6.05086942,\n",
       "        5.132009  ,  5.73284945,  6.78110732,  6.44834449,  6.39941482,\n",
       "        5.86067925,  6.44765183,  5.36708111,  5.88735565,  3.96162465,\n",
       "        6.28438193,  4.20584789,  5.32615581,  7.17135204,  7.4949275 ,\n",
       "        7.39807241,  5.02432984,  5.31712478,  5.87655237,  6.03762833,\n",
       "        5.91280273,  6.69451358,  6.01017978,  6.92721968,  6.33559522,\n",
       "        6.24257071,  5.57812294,  6.40773863,  6.80029526,  7.21684033,\n",
       "        6.5110074 ,  4.60630534,  7.65503226,  5.50295759,  6.63060699,\n",
       "        3.45928006,  8.20339815,  4.95679428,  5.37052667,  5.69797866,\n",
       "        6.27376271,  5.05274526,  6.88575584,  4.1877442 ,  5.97510328,\n",
       "        6.09457129,  5.72395697,  4.37249767,  6.29206262,  5.14533035,\n",
       "        6.5870565 ,  5.78769095,  6.72798098,  6.64078939,  6.23228878,\n",
       "        6.21772724,  5.78116301,  6.62447253,  5.19590823,  5.87177181,\n",
       "        5.89562099,  5.6175432 ,  5.63176103,  5.50258659,  6.48212628,\n",
       "        7.30278708,  6.99198434,  4.8255341 ,  6.11768055,  0.94048944])"
      ]
     },
     "execution_count": 4,
     "metadata": {},
     "output_type": "execute_result"
    }
   ],
   "source": [
    "X[:, 0]"
   ]
  },
  {
   "cell_type": "code",
   "execution_count": 5,
   "id": "e8699c7d",
   "metadata": {},
   "outputs": [
    {
     "data": {
      "image/png": "[encoded data removed]",
      "text/plain": [
       "<Figure size 432x288 with 1 Axes>"
      ]
     },
     "metadata": {
      "needs_background": "light"
     },
     "output_type": "display_data"
    }
   ],
   "source": [
    "plt.scatter(X[:, 0], X[:, 1])\n",
    "plt.title(\"Example Dataset\")\n",
    "plt.show()"
   ]
  },
  {
   "cell_type": "code",
   "execution_count": 6,
   "id": "e02f3168",
   "metadata": {},
   "outputs": [],
   "source": [
    "# Selecting 3 random cluster centroids\n",
    "value1 = np.random.randint(X.shape[0])\n",
    "value2 = np.random.randint(X.shape[0])\n",
    "while value1 == value2:\n",
    "    value2 = np.random.randint(X.shape[0])\n",
    "value3 = np.random.randint(X.shape[0])\n",
    "while value3 == value1 or value3 == value2:\n",
    "    value3 = np.ranodm.randint(X.shape[0])"
   ]
  },
  {
   "cell_type": "code",
   "execution_count": 7,
   "id": "7c3c38b4",
   "metadata": {},
   "outputs": [
    {
     "name": "stdout",
     "output_type": "stream",
     "text": [
      "142 58 99\n"
     ]
    }
   ],
   "source": [
    "print(value1, value2, value3)"
   ]
  },
  {
   "cell_type": "code",
   "execution_count": 8,
   "id": "965084db",
   "metadata": {},
   "outputs": [],
   "source": [
    "x1, y1 = X[value1, 0], X[value1, 1]"
   ]
  },
  {
   "cell_type": "code",
   "execution_count": 9,
   "id": "f9c35a25",
   "metadata": {},
   "outputs": [
    {
     "data": {
      "text/plain": [
       "(3.3006365498721384, 1.2810758821084063)"
      ]
     },
     "execution_count": 9,
     "metadata": {},
     "output_type": "execute_result"
    }
   ],
   "source": [
    "# Cluster centroid 1\n",
    "x1 , y1"
   ]
  },
  {
   "cell_type": "code",
   "execution_count": 10,
   "id": "173def5c",
   "metadata": {},
   "outputs": [
    {
     "data": {
      "text/plain": [
       "array([3.30063655, 1.28107588])"
      ]
     },
     "execution_count": 10,
     "metadata": {},
     "output_type": "execute_result"
    }
   ],
   "source": [
    "X[value1]"
   ]
  },
  {
   "cell_type": "code",
   "execution_count": 11,
   "id": "10f61bfc",
   "metadata": {},
   "outputs": [],
   "source": [
    "# Cluster centroid 2\n",
    "x2 , y2 = X[value2, 0], X[value2, 1]"
   ]
  },
  {
   "cell_type": "code",
   "execution_count": 12,
   "id": "e5192f6e",
   "metadata": {},
   "outputs": [
    {
     "data": {
      "text/plain": [
       "(2.241850515528486, 4.9244617023247255)"
      ]
     },
     "execution_count": 12,
     "metadata": {},
     "output_type": "execute_result"
    }
   ],
   "source": [
    "x2, y2 "
   ]
  },
  {
   "cell_type": "code",
   "execution_count": 13,
   "id": "b47aa642",
   "metadata": {},
   "outputs": [
    {
     "data": {
      "text/plain": [
       "array([2.24185052, 4.9244617 ])"
      ]
     },
     "execution_count": 13,
     "metadata": {},
     "output_type": "execute_result"
    }
   ],
   "source": [
    "X[value2]"
   ]
  },
  {
   "cell_type": "code",
   "execution_count": 14,
   "id": "f561f419",
   "metadata": {},
   "outputs": [],
   "source": [
    "# Cluster Centroid 3\n",
    "x3, y3 = X[value3, 0], X[value3, 1]"
   ]
  },
  {
   "cell_type": "code",
   "execution_count": 15,
   "id": "1e3f1fa0",
   "metadata": {},
   "outputs": [
    {
     "data": {
      "text/plain": [
       "(1.7281819943472312, 5.36028437434454)"
      ]
     },
     "execution_count": 15,
     "metadata": {},
     "output_type": "execute_result"
    }
   ],
   "source": [
    "x3, y3"
   ]
  },
  {
   "cell_type": "code",
   "execution_count": 16,
   "id": "c2d3a435",
   "metadata": {},
   "outputs": [
    {
     "data": {
      "text/plain": [
       "array([1.72818199, 5.36028437])"
      ]
     },
     "execution_count": 16,
     "metadata": {},
     "output_type": "execute_result"
    }
   ],
   "source": [
    "X[value3]"
   ]
  },
  {
   "cell_type": "code",
   "execution_count": 17,
   "id": "9c2315cb",
   "metadata": {},
   "outputs": [],
   "source": [
    "centroids = [[x1, y1], [x2, y2], [x3, y3]]"
   ]
  },
  {
   "cell_type": "code",
   "execution_count": 18,
   "id": "98aaa03f",
   "metadata": {},
   "outputs": [],
   "source": [
    "centroids = np.array(centroids)"
   ]
  },
  {
   "cell_type": "code",
   "execution_count": 19,
   "id": "17c7a109",
   "metadata": {},
   "outputs": [
    {
     "data": {
      "text/plain": [
       "array([[3.30063655, 1.28107588],\n",
       "       [2.24185052, 4.9244617 ],\n",
       "       [1.72818199, 5.36028437]])"
      ]
     },
     "execution_count": 19,
     "metadata": {},
     "output_type": "execute_result"
    }
   ],
   "source": [
    "centroids"
   ]
  },
  {
   "cell_type": "code",
   "execution_count": 20,
   "id": "d521ce5a",
   "metadata": {},
   "outputs": [],
   "source": [
    "def closest_centroid(X, centroids):\n",
    "    m, n = X.shape\n",
    "    k = centroids.shape[0]\n",
    "    idx = np.zeros(m)\n",
    "    \n",
    "    for i in range(m):\n",
    "        distance_array = []\n",
    "        for j in range(k):\n",
    "            x = X[i, 0] - centroids[j, 0]\n",
    "            y = X[i, 1] - centroids[j, 1]\n",
    "            distance = (x ** 2) + (y ** 2)\n",
    "            distance_array.append(distance)\n",
    "        distance_array = np.array(distance_array)\n",
    "        idx[i] = (np.argmin(distance_array))\n",
    "    return idx"
   ]
  },
  {
   "cell_type": "code",
   "execution_count": 21,
   "id": "2a6b180c",
   "metadata": {},
   "outputs": [],
   "source": [
    "idx = closest_centroid(X, centroids)"
   ]
  },
  {
   "cell_type": "code",
   "execution_count": 22,
   "id": "5a36d695",
   "metadata": {},
   "outputs": [
    {
     "data": {
      "text/plain": [
       "array([1., 1., 0., 1., 1., 2., 1., 1., 1., 1., 2., 1., 2., 1., 2., 1., 1.,\n",
       "       1., 2., 1., 2., 1., 2., 2., 2., 1., 1., 2., 2., 2., 1., 1., 1., 1.,\n",
       "       1., 1., 2., 1., 1., 2., 2., 1., 1., 2., 2., 1., 1., 1., 1., 1., 2.,\n",
       "       1., 1., 1., 1., 1., 2., 2., 1., 2., 1., 2., 1., 2., 1., 2., 1., 2.,\n",
       "       1., 2., 1., 2., 2., 2., 1., 2., 2., 2., 2., 2., 2., 1., 2., 1., 1.,\n",
       "       1., 1., 1., 2., 1., 1., 1., 2., 1., 1., 1., 2., 2., 2., 2., 0., 0.,\n",
       "       0., 0., 0., 0., 0., 0., 0., 0., 0., 0., 0., 0., 0., 0., 0., 0., 0.,\n",
       "       0., 0., 0., 0., 0., 0., 0., 0., 0., 0., 0., 0., 0., 0., 0., 0., 0.,\n",
       "       0., 0., 0., 0., 0., 0., 0., 0., 0., 0., 0., 0., 0., 0., 0., 0., 0.,\n",
       "       0., 0., 0., 0., 0., 0., 0., 0., 0., 0., 0., 0., 0., 0., 0., 0., 0.,\n",
       "       0., 0., 0., 0., 0., 0., 0., 0., 0., 0., 0., 0., 0., 0., 0., 0., 0.,\n",
       "       0., 0., 0., 0., 0., 0., 0., 0., 0., 0., 0., 0., 0., 0., 0., 0., 0.,\n",
       "       0., 0., 0., 0., 0., 0., 0., 0., 0., 0., 0., 0., 0., 0., 0., 0., 0.,\n",
       "       0., 0., 0., 0., 0., 0., 0., 0., 0., 0., 0., 0., 0., 0., 0., 0., 0.,\n",
       "       0., 0., 0., 0., 0., 0., 0., 0., 0., 0., 0., 0., 0., 0., 0., 0., 0.,\n",
       "       0., 0., 0., 0., 0., 0., 0., 0., 0., 0., 0., 0., 0., 0., 0., 0., 0.,\n",
       "       0., 0., 0., 0., 0., 0., 0., 1., 0., 0., 0., 0., 0., 0., 0., 0., 0.,\n",
       "       0., 0., 0., 0., 0., 0., 0., 0., 0., 0., 2.])"
      ]
     },
     "execution_count": 22,
     "metadata": {},
     "output_type": "execute_result"
    }
   ],
   "source": [
    "idx"
   ]
  },
  {
   "cell_type": "code",
   "execution_count": 26,
   "id": "fd9771eb",
   "metadata": {},
   "outputs": [],
   "source": [
    "def closest_centroid_version2(X, centroids):\n",
    "    m, n = X.shape\n",
    "    k = centroids.shape[0]\n",
    "    idx = np.zeros(m,)\n",
    "    \n",
    "    # Outer loop is to iterate through all the valus of x\n",
    "    for i in range(m):\n",
    "        distance_array = []\n",
    "        for j in range(k):\n",
    "            total_distance = 0.0\n",
    "            for p in range(centroids.shape[1]):\n",
    "                total_distance += ((X[i, p] - centroids[j, p]) ** 2)\n",
    "            distance_array.append(total_distance)\n",
    "        # Converting the distance_array into a np.array to use np.argmin\n",
    "        distance_array = np.array(distance_array)\n",
    "        idx[i] = np.argmin(distance_array)\n",
    "    return idx"
   ]
  },
  {
   "cell_type": "code",
   "execution_count": 27,
   "id": "f44d75e8",
   "metadata": {},
   "outputs": [
    {
     "name": "stdout",
     "output_type": "stream",
     "text": [
      "[[3.30063655 1.28107588]\n",
      " [2.24185052 4.9244617 ]\n",
      " [1.72818199 5.36028437]] (3, 2)\n"
     ]
    }
   ],
   "source": [
    "print(centroids, centroids.shape)"
   ]
  },
  {
   "cell_type": "code",
   "execution_count": 28,
   "id": "7ec98284",
   "metadata": {},
   "outputs": [],
   "source": [
    "index_version1 = closest_centroid_version2(X, centroids)"
   ]
  },
  {
   "cell_type": "code",
   "execution_count": 29,
   "id": "067a4ade",
   "metadata": {},
   "outputs": [
    {
     "data": {
      "text/plain": [
       "array([1., 1., 0., 1., 1., 2., 1., 1., 1., 1., 2., 1., 2., 1., 2., 1., 1.,\n",
       "       1., 2., 1., 2., 1., 2., 2., 2., 1., 1., 2., 2., 2., 1., 1., 1., 1.,\n",
       "       1., 1., 2., 1., 1., 2., 2., 1., 1., 2., 2., 1., 1., 1., 1., 1., 2.,\n",
       "       1., 1., 1., 1., 1., 2., 2., 1., 2., 1., 2., 1., 2., 1., 2., 1., 2.,\n",
       "       1., 2., 1., 2., 2., 2., 1., 2., 2., 2., 2., 2., 2., 1., 2., 1., 1.,\n",
       "       1., 1., 1., 2., 1., 1., 1., 2., 1., 1., 1., 2., 2., 2., 2., 0., 0.,\n",
       "       0., 0., 0., 0., 0., 0., 0., 0., 0., 0., 0., 0., 0., 0., 0., 0., 0.,\n",
       "       0., 0., 0., 0., 0., 0., 0., 0., 0., 0., 0., 0., 0., 0., 0., 0., 0.,\n",
       "       0., 0., 0., 0., 0., 0., 0., 0., 0., 0., 0., 0., 0., 0., 0., 0., 0.,\n",
       "       0., 0., 0., 0., 0., 0., 0., 0., 0., 0., 0., 0., 0., 0., 0., 0., 0.,\n",
       "       0., 0., 0., 0., 0., 0., 0., 0., 0., 0., 0., 0., 0., 0., 0., 0., 0.,\n",
       "       0., 0., 0., 0., 0., 0., 0., 0., 0., 0., 0., 0., 0., 0., 0., 0., 0.,\n",
       "       0., 0., 0., 0., 0., 0., 0., 0., 0., 0., 0., 0., 0., 0., 0., 0., 0.,\n",
       "       0., 0., 0., 0., 0., 0., 0., 0., 0., 0., 0., 0., 0., 0., 0., 0., 0.,\n",
       "       0., 0., 0., 0., 0., 0., 0., 0., 0., 0., 0., 0., 0., 0., 0., 0., 0.,\n",
       "       0., 0., 0., 0., 0., 0., 0., 0., 0., 0., 0., 0., 0., 0., 0., 0., 0.,\n",
       "       0., 0., 0., 0., 0., 0., 0., 1., 0., 0., 0., 0., 0., 0., 0., 0., 0.,\n",
       "       0., 0., 0., 0., 0., 0., 0., 0., 0., 0., 2.])"
      ]
     },
     "execution_count": 29,
     "metadata": {},
     "output_type": "execute_result"
    }
   ],
   "source": [
    "index_version1"
   ]
  },
  {
   "cell_type": "code",
   "execution_count": 39,
   "id": "49e1816f",
   "metadata": {},
   "outputs": [],
   "source": [
    "def cluster_centroid(X, idx):\n",
    "    m ,n = X.shape\n",
    "    \n",
    "    new_centroid = np.zeros((3, 2))\n",
    "    count = np.zeros(3,)\n",
    "    for i in range(m):\n",
    "        new_centroid[int(idx[i]), 0] += X[i , 0]\n",
    "        new_centroid[int(idx[i]), 1] += X[i, 1]\n",
    "        count[int(idx[i])] += 1\n",
    "    for j in range(len(count)):\n",
    "        new_centroid[j, 0] = new_centroid[j, 0] / count[j]\n",
    "        new_centroid[j, 1] = new_centroid[j, 1] / count[j]\n",
    "    return new_centroid"
   ]
  },
  {
   "cell_type": "code",
   "execution_count": 40,
   "id": "08614d87",
   "metadata": {},
   "outputs": [
    {
     "name": "stdout",
     "output_type": "stream",
     "text": [
      "[1. 1. 0. 1. 1. 2. 1. 1. 1. 1. 2. 1. 2. 1. 2. 1. 1. 1. 2. 1. 2. 1. 2. 2.\n",
      " 2. 1. 1. 2. 2. 2. 1. 1. 1. 1. 1. 1. 2. 1. 1. 2. 2. 1. 1. 2. 2. 1. 1. 1.\n",
      " 1. 1. 2. 1. 1. 1. 1. 1. 2. 2. 1. 2. 1. 2. 1. 2. 1. 2. 1. 2. 1. 2. 1. 2.\n",
      " 2. 2. 1. 2. 2. 2. 2. 2. 2. 1. 2. 1. 1. 1. 1. 1. 2. 1. 1. 1. 2. 1. 1. 1.\n",
      " 2. 2. 2. 2. 0. 0. 0. 0. 0. 0. 0. 0. 0. 0. 0. 0. 0. 0. 0. 0. 0. 0. 0. 0.\n",
      " 0. 0. 0. 0. 0. 0. 0. 0. 0. 0. 0. 0. 0. 0. 0. 0. 0. 0. 0. 0. 0. 0. 0. 0.\n",
      " 0. 0. 0. 0. 0. 0. 0. 0. 0. 0. 0. 0. 0. 0. 0. 0. 0. 0. 0. 0. 0. 0. 0. 0.\n",
      " 0. 0. 0. 0. 0. 0. 0. 0. 0. 0. 0. 0. 0. 0. 0. 0. 0. 0. 0. 0. 0. 0. 0. 0.\n",
      " 0. 0. 0. 0. 0. 0. 0. 0. 0. 0. 0. 0. 0. 0. 0. 0. 0. 0. 0. 0. 0. 0. 0. 0.\n",
      " 0. 0. 0. 0. 0. 0. 0. 0. 0. 0. 0. 0. 0. 0. 0. 0. 0. 0. 0. 0. 0. 0. 0. 0.\n",
      " 0. 0. 0. 0. 0. 0. 0. 0. 0. 0. 0. 0. 0. 0. 0. 0. 0. 0. 0. 0. 0. 0. 0. 0.\n",
      " 0. 0. 0. 0. 0. 0. 0. 0. 0. 0. 0. 0. 0. 0. 0. 1. 0. 0. 0. 0. 0. 0. 0. 0.\n",
      " 0. 0. 0. 0. 0. 0. 0. 0. 0. 0. 0. 2.]\n"
     ]
    }
   ],
   "source": [
    "print(index)"
   ]
  },
  {
   "cell_type": "code",
   "execution_count": 79,
   "id": "e47afe19",
   "metadata": {},
   "outputs": [],
   "source": [
    "centroid_list = []\n",
    "for i in range(120):\n",
    "    index = closest_centroid_version2(X, centroids)\n",
    "    \n",
    "    centroids = cluster_centroid(X, index)\n",
    "    \n",
    "    if i%5==0:\n",
    "        centroid_list.append(centroids)\n",
    "    if i == 99:\n",
    "        final_centroid = centroids"
   ]
  },
  {
   "cell_type": "code",
   "execution_count": 80,
   "id": "aa7a089c",
   "metadata": {},
   "outputs": [
    {
     "data": {
      "text/plain": [
       "[array([[4.51637285, 1.9665885 ],\n",
       "        [2.75422337, 5.06855655],\n",
       "        [1.19285671, 4.98253278]]),\n",
       " array([[4.51637285, 1.9665885 ],\n",
       "        [2.75422337, 5.06855655],\n",
       "        [1.19285671, 4.98253278]]),\n",
       " array([[4.51637285, 1.9665885 ],\n",
       "        [2.75422337, 5.06855655],\n",
       "        [1.19285671, 4.98253278]]),\n",
       " array([[4.51637285, 1.9665885 ],\n",
       "        [2.75422337, 5.06855655],\n",
       "        [1.19285671, 4.98253278]]),\n",
       " array([[4.51637285, 1.9665885 ],\n",
       "        [2.75422337, 5.06855655],\n",
       "        [1.19285671, 4.98253278]]),\n",
       " array([[4.51637285, 1.9665885 ],\n",
       "        [2.75422337, 5.06855655],\n",
       "        [1.19285671, 4.98253278]]),\n",
       " array([[4.51637285, 1.9665885 ],\n",
       "        [2.75422337, 5.06855655],\n",
       "        [1.19285671, 4.98253278]]),\n",
       " array([[4.51637285, 1.9665885 ],\n",
       "        [2.75422337, 5.06855655],\n",
       "        [1.19285671, 4.98253278]]),\n",
       " array([[4.51637285, 1.9665885 ],\n",
       "        [2.75422337, 5.06855655],\n",
       "        [1.19285671, 4.98253278]]),\n",
       " array([[4.51637285, 1.9665885 ],\n",
       "        [2.75422337, 5.06855655],\n",
       "        [1.19285671, 4.98253278]]),\n",
       " array([[4.51637285, 1.9665885 ],\n",
       "        [2.75422337, 5.06855655],\n",
       "        [1.19285671, 4.98253278]]),\n",
       " array([[4.51637285, 1.9665885 ],\n",
       "        [2.75422337, 5.06855655],\n",
       "        [1.19285671, 4.98253278]]),\n",
       " array([[4.51637285, 1.9665885 ],\n",
       "        [2.75422337, 5.06855655],\n",
       "        [1.19285671, 4.98253278]]),\n",
       " array([[4.51637285, 1.9665885 ],\n",
       "        [2.75422337, 5.06855655],\n",
       "        [1.19285671, 4.98253278]]),\n",
       " array([[4.51637285, 1.9665885 ],\n",
       "        [2.75422337, 5.06855655],\n",
       "        [1.19285671, 4.98253278]]),\n",
       " array([[4.51637285, 1.9665885 ],\n",
       "        [2.75422337, 5.06855655],\n",
       "        [1.19285671, 4.98253278]]),\n",
       " array([[4.51637285, 1.9665885 ],\n",
       "        [2.75422337, 5.06855655],\n",
       "        [1.19285671, 4.98253278]]),\n",
       " array([[4.51637285, 1.9665885 ],\n",
       "        [2.75422337, 5.06855655],\n",
       "        [1.19285671, 4.98253278]]),\n",
       " array([[4.51637285, 1.9665885 ],\n",
       "        [2.75422337, 5.06855655],\n",
       "        [1.19285671, 4.98253278]]),\n",
       " array([[4.51637285, 1.9665885 ],\n",
       "        [2.75422337, 5.06855655],\n",
       "        [1.19285671, 4.98253278]]),\n",
       " array([[4.51637285, 1.9665885 ],\n",
       "        [2.75422337, 5.06855655],\n",
       "        [1.19285671, 4.98253278]]),\n",
       " array([[4.51637285, 1.9665885 ],\n",
       "        [2.75422337, 5.06855655],\n",
       "        [1.19285671, 4.98253278]]),\n",
       " array([[4.51637285, 1.9665885 ],\n",
       "        [2.75422337, 5.06855655],\n",
       "        [1.19285671, 4.98253278]]),\n",
       " array([[4.51637285, 1.9665885 ],\n",
       "        [2.75422337, 5.06855655],\n",
       "        [1.19285671, 4.98253278]])]"
      ]
     },
     "execution_count": 80,
     "metadata": {},
     "output_type": "execute_result"
    }
   ],
   "source": [
    "centroid_list"
   ]
  },
  {
   "cell_type": "code",
   "execution_count": 81,
   "id": "43897699",
   "metadata": {},
   "outputs": [
    {
     "data": {
      "text/plain": [
       "array([[4.51637285, 1.9665885 ],\n",
       "       [2.75422337, 5.06855655],\n",
       "       [1.19285671, 4.98253278]])"
      ]
     },
     "execution_count": 81,
     "metadata": {},
     "output_type": "execute_result"
    }
   ],
   "source": [
    "final_centroid"
   ]
  },
  {
   "cell_type": "code",
   "execution_count": 82,
   "id": "4cb1592e",
   "metadata": {},
   "outputs": [
    {
     "data": {
      "image/png": "[encoded data removed]",
      "text/plain": [
       "<Figure size 432x288 with 1 Axes>"
      ]
     },
     "metadata": {
      "needs_background": "light"
     },
     "output_type": "display_data"
    }
   ],
   "source": [
    "plt.scatter(X[:, 0], X[:, 1])\n",
    "plt.scatter(final_centroid[:, 0], final_centroid[:, 1])\n",
    "plt.title(\"Final cluster centroids.\")\n",
    "plt.show()"
   ]
  },
  {
   "cell_type": "code",
   "execution_count": 85,
   "id": "e4796193",
   "metadata": {},
   "outputs": [],
   "source": [
    "# Redoing the above iteration\n",
    "value1_2 = np.random.randint(X.shape[0])\n",
    "value2_2 = np.random.randint(X.shape[0])\n",
    "while value1_2 == value2_2:\n",
    "    value2_2 = np.random.randint(X.shape[0])\n",
    "value3_2 = np.random.randint(X.shape[0])\n",
    "while value1_2 == value3_2 or value3_2 == value2_2:\n",
    "    value3_2 = np.random.randint(X.shape[0])"
   ]
  },
  {
   "cell_type": "code",
   "execution_count": 86,
   "id": "8d46087b",
   "metadata": {},
   "outputs": [
    {
     "name": "stdout",
     "output_type": "stream",
     "text": [
      "210 30 147\n"
     ]
    }
   ],
   "source": [
    "print(value1_2, value2_2, value3_2)"
   ]
  },
  {
   "cell_type": "code",
   "execution_count": 87,
   "id": "c9f395ab",
   "metadata": {},
   "outputs": [],
   "source": [
    "x1_2, y1_2 = X[value1_2, 0], X[value1_2, 1]\n",
    "x2_2, y2_2 = X[value2_2, 0], X[value2_2, 1]\n",
    "x3_2, y3_2 = X[value3_2, 0], X[value3_2, 1]"
   ]
  },
  {
   "cell_type": "code",
   "execution_count": 88,
   "id": "ef364eb1",
   "metadata": {},
   "outputs": [],
   "source": [
    "centroids_2 = [[x1_2, y1_2], [x2_2, y2_2], [x3_2, y3_2]]\n",
    "centroids_2 = np.array(centroids_2)"
   ]
  },
  {
   "cell_type": "code",
   "execution_count": 89,
   "id": "3875b7d6",
   "metadata": {},
   "outputs": [
    {
     "data": {
      "text/plain": [
       "array([[7.42892098, 3.4667949 ],\n",
       "       [2.66046572, 5.19623848],\n",
       "       [3.91596068, 1.01225774]])"
      ]
     },
     "execution_count": 89,
     "metadata": {},
     "output_type": "execute_result"
    }
   ],
   "source": [
    "centroids_2"
   ]
  },
  {
   "cell_type": "code",
   "execution_count": 90,
   "id": "bcf49c48",
   "metadata": {},
   "outputs": [],
   "source": [
    "centroid_list_2 = []\n",
    "for i in range(300):\n",
    "    index = closest_centroid_version2(X, centroids_2)\n",
    "    \n",
    "    centroids_find_2 = cluster_centroid(X, index)\n",
    "    \n",
    "    if i%5==0:\n",
    "        centroid_list_2.append(centroids_find_2)\n",
    "    if i == 99:\n",
    "        final_centroid = centroids_find_2"
   ]
  },
  {
   "cell_type": "code",
   "execution_count": 91,
   "id": "1a3427d3",
   "metadata": {},
   "outputs": [
    {
     "data": {
      "text/plain": [
       "(array([[6.24701887, 3.0071859 ],\n",
       "        [1.98363152, 5.03043004],\n",
       "        [3.25807371, 1.22850744]]),\n",
       " array([[6.24701887, 3.0071859 ],\n",
       "        [1.98363152, 5.03043004],\n",
       "        [3.25807371, 1.22850744]]))"
      ]
     },
     "execution_count": 91,
     "metadata": {},
     "output_type": "execute_result"
    }
   ],
   "source": [
    "final_centroid, centroids_find_2"
   ]
  },
  {
   "cell_type": "code",
   "execution_count": 125,
   "id": "a8dccf54",
   "metadata": {},
   "outputs": [
    {
     "data": {
      "image/png": "[encoded data removed]",
      "text/plain": [
       "<Figure size 432x288 with 1 Axes>"
      ]
     },
     "metadata": {
      "needs_background": "light"
     },
     "output_type": "display_data"
    }
   ],
   "source": [
    "plt.scatter(X[:, 0], X[:, 1])\n",
    "plt.scatter(centroids_find_2[:, 0], centroids_find_2[:, 1])\n",
    "plt.title(\"After using K-means clustering\")\n",
    "plt.show()"
   ]
  },
  {
   "cell_type": "code",
   "execution_count": null,
   "id": "185f0fbb",
   "metadata": {},
   "outputs": [],
   "source": []
  }
 ],
 "metadata": {
  "kernelspec": {
   "display_name": "Python 3 (ipykernel)",
   "language": "python",
   "name": "python3"
  },
  "language_info": {
   "codemirror_mode": {
    "name": "ipython",
    "version": 3
   },
   "file_extension": ".py",
   "mimetype": "text/x-python",
   "name": "python",
   "nbconvert_exporter": "python",
   "pygments_lexer": "ipython3",
   "version": "3.9.12"
  }
 },
 "nbformat": 4,
 "nbformat_minor": 5
}
